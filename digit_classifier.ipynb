{
 "cells": [
  {
   "cell_type": "markdown",
   "metadata": {},
   "source": [
    "Objective: Implementing a model to classify the digits\n",
    "\n",
    "Data Source: MNIST digits data from sklearn dataset   "
   ]
  },
  {
   "cell_type": "code",
   "execution_count": 68,
   "metadata": {},
   "outputs": [],
   "source": [
    "from sklearn.datasets import fetch_openml\n",
    "import matplotlib.pyplot as plt\n",
    "import matplotlib as mpl\n",
    "import numpy as np\n",
    "import pandas as pd\n",
    "import seaborn as sns\n",
    "\n",
    "from sklearn.linear_model import LogisticRegression\n",
    "from sklearn.ensemble import RandomForestClassifier\n",
    "from sklearn.ensemble import GradientBoostingClassifier\n",
    "from sklearn.model_selection import GridSearchCV\n",
    "\n",
    "from sklearn.metrics import confusion_matrix\n",
    "from sklearn.metrics import classification_report\n",
    "from sklearn.metrics import ConfusionMatrixDisplay\n",
    "\n",
    "from sklearn.preprocessing import StandardScaler\n",
    "from sklearn.model_selection import cross_val_predict\n",
    "from sklearn.model_selection import StratifiedKFold\n",
    "from sklearn.metrics import precision_recall_curve\n",
    "from sklearn.metrics import roc_curve\n",
    "from sklearn.metrics import roc_auc_score\n",
    "from sklearn.metrics import recall_score\n",
    "from sklearn.metrics import precision_score\n",
    "from sklearn.metrics import f1_score\n",
    "from sklearn.metrics import classification_report\n"
   ]
  },
  {
   "cell_type": "markdown",
   "metadata": {},
   "source": [
    "## Load the MNIST digits data"
   ]
  },
  {
   "cell_type": "code",
   "execution_count": 2,
   "metadata": {},
   "outputs": [
    {
     "name": "stdout",
     "output_type": "stream",
     "text": [
      "dict_keys(['data', 'target', 'frame', 'categories', 'feature_names', 'target_names', 'DESCR', 'details', 'url'])\n"
     ]
    }
   ],
   "source": [
    "# Get MNIST digits data from sklearn dataset\n",
    "data = fetch_openml('mnist_784', version=1)\n",
    "\n",
    "# check the column names of the data\n",
    "print(data.keys())"
   ]
  },
  {
   "cell_type": "markdown",
   "metadata": {},
   "source": [
    "## Data preparation"
   ]
  },
  {
   "cell_type": "code",
   "execution_count": 3,
   "metadata": {},
   "outputs": [
    {
     "name": "stdout",
     "output_type": "stream",
     "text": [
      "number of cells with null values: 0\n",
      "The size of the data (#examples, #features) :(70000, 784)\n",
      "Classes in the target y: ['0' '1' '2' '3' '4' '5' '6' '7' '8' '9']\n"
     ]
    }
   ],
   "source": [
    "# select the dependent and independent data\n",
    "X = data['data']\n",
    "y = data['target']\n",
    "\n",
    "# null values check\n",
    "print(f'number of cells with null values: {sum(pd.DataFrame(X).isnull().sum())}')\n",
    "\n",
    "print(f'The size of the data (#examples, #features) :{X.shape}')\n",
    "print(f'Classes in the target y: {np.unique(y)}')\n"
   ]
  },
  {
   "cell_type": "code",
   "execution_count": 4,
   "metadata": {},
   "outputs": [
    {
     "data": {
      "text/plain": [
       "<matplotlib.image.AxesImage at 0x1faa5b6eac0>"
      ]
     },
     "execution_count": 4,
     "metadata": {},
     "output_type": "execute_result"
    },
    {
     "data": {
      "image/png": "[encoded data removed]",
      "text/plain": [
       "<Figure size 432x288 with 1 Axes>"
      ]
     },
     "metadata": {
      "needs_background": "light"
     },
     "output_type": "display_data"
    }
   ],
   "source": [
    "# Simple check of an image of a digit\n",
    "imdata = X[5].reshape(28, 28)\n",
    "plt.imshow(imdata, cmap=mpl.cm.binary)"
   ]
  },
  {
   "cell_type": "markdown",
   "metadata": {},
   "source": [
    "## Split the data, and train the model for a binary classification of the digit 5\n"
   ]
  },
  {
   "cell_type": "code",
   "execution_count": 5,
   "metadata": {},
   "outputs": [],
   "source": [
    "X_train, X_test= X[:60000], X[60000:]\n",
    "y_train, y_test = y[:60000].astype(np.int8), y[60000:].astype(np.int8)\n",
    "\n",
    "# Consider a simple case for binary classification whether the given image contains digit 5 or not\n",
    "y_train = (y_train==5)\n",
    "y_test = (y_test==5)"
   ]
  },
  {
   "cell_type": "markdown",
   "metadata": {},
   "source": [
    "### Linear classifier"
   ]
  },
  {
   "cell_type": "code",
   "execution_count": 6,
   "metadata": {},
   "outputs": [
    {
     "name": "stdout",
     "output_type": "stream",
     "text": [
      "accuracy: 0.9774\n",
      "[[9027   81]\n",
      " [ 145  747]]\n",
      "              precision    recall  f1-score   support\n",
      "\n",
      "       False       0.98      0.99      0.99      9108\n",
      "        True       0.90      0.84      0.87       892\n",
      "\n",
      "    accuracy                           0.98     10000\n",
      "   macro avg       0.94      0.91      0.93     10000\n",
      "weighted avg       0.98      0.98      0.98     10000\n",
      "\n"
     ]
    }
   ],
   "source": [
    "lrc = LogisticRegression(solver='liblinear')\n",
    "lrc.fit(X_train, y_train)\n",
    "\n",
    "# predict whether a given digit is 5 or not\n",
    "lrc.predict([X_test[10]])\n",
    "\n",
    "# linear model performance\n",
    "y_pred = lrc.predict(X_test)\n",
    "n_correct = sum(y_pred==y_test)\n",
    "accuracy = n_correct / len(y_test)\n",
    "print(f'accuracy: {accuracy}')\n",
    "\n",
    "# confusion matrix\n",
    "print(confusion_matrix(y_test, y_pred))\n",
    "print(classification_report(y_test, y_pred))"
   ]
  },
  {
   "cell_type": "markdown",
   "metadata": {},
   "source": [
    "From the above metrics:\n",
    "- The accuracy of the model is approximately 98% but the 84% recall indicates the model could not identify the digit 5 in several cases.\n",
    "- 9027 test instances of class non-5 images are predicted correctly but 81 instances are in-correctly classified as images of the 5. So the true negatives are 9027 while the false positives are 81\n",
    "- 145 images of the class 5 are classified as images of the non-5s so the false nagtives are 145\n",
    "- 747 of the images of 5s are classfied as images of the 5s so the true positives are 747\n"
   ]
  },
  {
   "cell_type": "markdown",
   "metadata": {},
   "source": [
    "### Cross-validation scores"
   ]
  },
  {
   "cell_type": "code",
   "execution_count": 7,
   "metadata": {},
   "outputs": [],
   "source": [
    "# use cross validation data to measure the score of the model\n",
    "kfold = StratifiedKFold(n_splits=3)\n",
    "y_predict = cross_val_predict(lrc, X_train, y_train, cv=kfold, method='decision_function')"
   ]
  },
  {
   "cell_type": "code",
   "execution_count": 9,
   "metadata": {},
   "outputs": [
    {
     "name": "stdout",
     "output_type": "stream",
     "text": [
      "Required precision: 0.9 \n",
      "Recall : 0.7756871425936174\n"
     ]
    },
    {
     "data": {
      "image/png": "[encoded data removed]",
      "text/plain": [
       "<Figure size 1080x360 with 3 Axes>"
      ]
     },
     "metadata": {
      "needs_background": "light"
     },
     "output_type": "display_data"
    },
    {
     "name": "stdout",
     "output_type": "stream",
     "text": [
      "Area under curve of the ROC: 0.973650750997323\n"
     ]
    }
   ],
   "source": [
    "# derive and plot the threshold, precision, recall values\n",
    "precisions, recalls, thresholds = precision_recall_curve(y_train, y_predict)\n",
    "\n",
    "# Plot between precision (and recall) and threshold\n",
    "req_precision = 0.9\n",
    "threshold_90_precision = thresholds[np.argmax(precisions>=req_precision)]\n",
    "recall_90_precision = recalls[np.argmax(precisions>=req_precision)]\n",
    "fig, (ax1, ax2, ax3) = plt.subplots(1, 3, figsize=(15, 5))\n",
    "ax1.plot(thresholds, precisions[:-1], 'g', label='precision')\n",
    "ax1.plot(thresholds, recalls[:-1], 'r--', label='recall')\n",
    "ax1.scatter(threshold_90_precision, req_precision, c='blue')\n",
    "ax1.scatter(threshold_90_precision, recall_90_precision, c='blue')\n",
    "ax1.set(xlabel='Threshold')\n",
    "ax1.legend()\n",
    "\n",
    "# Plot between precision and recall\n",
    "ax2.plot(recalls, precisions, 'g--')\n",
    "ax2.set(xlabel='recall', ylabel='precision')\n",
    "ax2.scatter(recall_90_precision, req_precision, c='blue')\n",
    "print(f'Required precision: {req_precision} \\nRecall : {recall_90_precision}')\n",
    "\n",
    "# ROC curve\n",
    "fpr, tpr, thresholds = roc_curve(y_train, y_predict)\n",
    "lrc_auc = roc_auc_score(y_train, y_predict)\n",
    "ax3.plot(fpr, tpr, 'g--')\n",
    "ax3.set(xlabel='False Positive Rate', ylabel='True Positive Rate')\n",
    "plt.show()\n",
    "print(f'Area under curve of the ROC: {lrc_auc}')"
   ]
  },
  {
   "cell_type": "markdown",
   "metadata": {},
   "source": [
    "Higher area of the ROC curve indicates that the model much better than the random guess model (its area of ROC is 0.5). However, if one wants to have high recall rate (>90%), there will be more false positives."
   ]
  },
  {
   "cell_type": "markdown",
   "metadata": {},
   "source": [
    "### SVM, Randm Forest Classifier, Gradient Boosting Classifier"
   ]
  },
  {
   "cell_type": "code",
   "execution_count": 10,
   "metadata": {},
   "outputs": [],
   "source": [
    "models = [('sgd', SGDClassifier()),\n",
    "          ('rfc', RandomForestClassifier()),\n",
    "          ('gbc', GradientBoostingClassifier())] \n",
    "         # dafault loss function for SGD is hinge (SVM)\n",
    "\n",
    "kfold = StratifiedKFold(n_splits=3)    \n",
    "precision_train, recall_train, roc_area_train = ([], [], [])\n",
    "precision_test, recall_test, roc_area_test = ([], [], [])\n",
    "for name, model in models:\n",
    "    y_predict = cross_val_predict(model, X_train, y_train, cv=kfold)\n",
    "    \n",
    "    precision_train.append(precision_score(y_train, y_predict))\n",
    "    recall_train.append(recall_score(y_train, y_predict))\n",
    "    roc_area_train.append(roc_auc_score(y_train, y_predict))\n",
    "    \n",
    "    model.fit(X_train, y_train)\n",
    "    y_predict = model.predict(X_test)\n",
    "    precision_test.append(precision_score(y_test, y_predict))\n",
    "    recall_test.append(recall_score(y_test, y_predict))\n",
    "    roc_area_test.append(roc_auc_score(y_test, y_predict))"
   ]
  },
  {
   "cell_type": "code",
   "execution_count": 11,
   "metadata": {},
   "outputs": [
    {
     "name": "stdout",
     "output_type": "stream",
     "text": [
      "model\t\t|precision\t\t|recall\t\t\t|roc_area\n",
      "sgd_train\t|0.8148905706688484\t|0.7349197565024903\t|0.8591691437196487\n",
      "rfc_train\t|0.9896885521885522\t|0.8675521121564287\t|0.933327165479266\n",
      "gbc_train\t|0.9642627862187032\t|0.8312119535141118\t|0.914076084307579\n",
      "sgd_test\t|0.8319719953325554\t|0.7993273542600897\t|0.8917585387901238\n",
      "rfc_test\t|0.9948652118100129\t|0.8688340807174888\t|0.9341974531826355\n",
      "gbc_test\t|0.9708994708994709\t|0.8228699551569507\t|0.9102272481098763\n"
     ]
    }
   ],
   "source": [
    "print(f'model\\t\\t|precision\\t\\t|recall\\t\\t\\t|roc_area')\n",
    "for i, (name, model) in enumerate(models):\n",
    "    print(f'{name}_train\\t|{precision_train[i]}\\t|{recall_train[i]}\\t|{roc_area_train[i]}')\n",
    "for i, (name, model) in enumerate(models):\n",
    "    print(f'{name}_test\\t|{precision_test[i]}\\t|{recall_test[i]}\\t|{roc_area_test[i]}')"
   ]
  },
  {
   "cell_type": "markdown",
   "metadata": {},
   "source": [
    "From the observations of the prediction case of the test data, we can say that the recall rate from the random forest classifier (87%) is slightly improved compared to the logistic regression classifier (84%)."
   ]
  },
  {
   "cell_type": "markdown",
   "metadata": {},
   "source": [
    "###  Scaled Data - SVM, Randm Forest Classifier, Gradient Boosting Classifier"
   ]
  },
  {
   "cell_type": "code",
   "execution_count": 83,
   "metadata": {},
   "outputs": [],
   "source": [
    "X_train, X_test= X[:60000], X[60000:]\n",
    "y_train, y_test = y[:60000].astype(np.int8), y[60000:].astype(np.int8)\n",
    "\n",
    "# feature scaling\n",
    "ssc = StandardScaler().fit(X_train)\n",
    "X_train = ssc.transform(X_train)\n",
    "X_test = ssc.transform(X_test)\n",
    "\n",
    "# Consider a simple case for binary classification whether the given image contains digit 5 or not\n",
    "y_train = (y_train==5)\n",
    "y_test = (y_test==5)"
   ]
  },
  {
   "cell_type": "code",
   "execution_count": 13,
   "metadata": {},
   "outputs": [],
   "source": [
    "models = [('sgd', SGDClassifier()),\n",
    "          ('rfc', RandomForestClassifier()),\n",
    "          ('gbc', GradientBoostingClassifier())] \n",
    "         # dafault loss function for SGD is hinge (SVM)\n",
    "\n",
    "kfold = StratifiedKFold(n_splits=3)    \n",
    "precision_train, recall_train, roc_area_train = ([], [], [])\n",
    "precision_test, recall_test, roc_area_test = ([], [], [])\n",
    "for name, model in models:\n",
    "    y_predict = cross_val_predict(model, X_train, y_train, cv=kfold)\n",
    "    \n",
    "    precision_train.append(precision_score(y_train, y_predict))\n",
    "    recall_train.append(recall_score(y_train, y_predict))\n",
    "    roc_area_train.append(roc_auc_score(y_train, y_predict))\n",
    "    \n",
    "    model.fit(X_train, y_train)\n",
    "    y_predict = model.predict(X_test)\n",
    "    precision_test.append(precision_score(y_test, y_predict))\n",
    "    recall_test.append(recall_score(y_test, y_predict))\n",
    "    roc_area_test.append(roc_auc_score(y_test, y_predict))"
   ]
  },
  {
   "cell_type": "code",
   "execution_count": 14,
   "metadata": {},
   "outputs": [
    {
     "name": "stdout",
     "output_type": "stream",
     "text": [
      "model\t\t|precision\t\t|recall\t\t\t|roc_area\n",
      "sgd_train\t|0.8667081260364843\t|0.7712599151448072\t|0.8797394135902858\n",
      "rfc_train\t|0.9882673371045464\t|0.8701346615015679\t|0.9345543129234144\n",
      "gbc_train\t|0.9646832191780822\t|0.8313964213244789\t|0.9141866402780257\n",
      "sgd_test\t|0.8814814814814815\t|0.8004484304932735\t|0.8949541230200229\n",
      "rfc_test\t|0.9923857868020305\t|0.8766816143497758\t|0.9380114264107244\n",
      "gbc_test\t|0.9709379128137384\t|0.8239910313901345\t|0.9107877862264682\n"
     ]
    }
   ],
   "source": [
    "print(f'model\\t\\t|precision\\t\\t|recall\\t\\t\\t|roc_area')\n",
    "for i, (name, model) in enumerate(models):\n",
    "    print(f'{name}_train\\t|{precision_train[i]}\\t|{recall_train[i]}\\t|{roc_area_train[i]}')\n",
    "for i, (name, model) in enumerate(models):\n",
    "    print(f'{name}_test\\t|{precision_test[i]}\\t|{recall_test[i]}\\t|{roc_area_test[i]}')"
   ]
  },
  {
   "cell_type": "markdown",
   "metadata": {},
   "source": [
    "A slight improvement can be observed in the recall rate for the logistic and radom forest classifiers."
   ]
  },
  {
   "cell_type": "markdown",
   "metadata": {},
   "source": [
    "## Multiclass Classifier - Random Forest Classifier"
   ]
  },
  {
   "cell_type": "code",
   "execution_count": 20,
   "metadata": {},
   "outputs": [],
   "source": [
    "# sklearn automatically performs the binary classification for multiclass classification system\n",
    "X_train, X_test= X[:60000], X[60000:]\n",
    "y_train, y_test = y[:60000].astype(np.int8), y[60000:].astype(np.int8)\n",
    "\n",
    "# feature scaling\n",
    "ssc = StandardScaler().fit(X_train)\n",
    "X_train = ssc.transform(X_train)\n",
    "X_test = ssc.transform(X_test)"
   ]
  },
  {
   "cell_type": "code",
   "execution_count": 64,
   "metadata": {},
   "outputs": [],
   "source": [
    "rfc = RandomForestClassifier()\n",
    "kfold = StratifiedKFold(n_splits=3)\n",
    "y_predict = cross_val_predict(rfc, X_train, y_train, cv=kfold)"
   ]
  },
  {
   "cell_type": "code",
   "execution_count": 63,
   "metadata": {},
   "outputs": [
    {
     "data": {
      "image/png": "[encoded data removed]",
      "text/plain": [
       "<Figure size 576x576 with 2 Axes>"
      ]
     },
     "metadata": {
      "needs_background": "light"
     },
     "output_type": "display_data"
    },
    {
     "data": {
      "text/html": [
       "<div>\n",
       "<style scoped>\n",
       "    .dataframe tbody tr th:only-of-type {\n",
       "        vertical-align: middle;\n",
       "    }\n",
       "\n",
       "    .dataframe tbody tr th {\n",
       "        vertical-align: top;\n",
       "    }\n",
       "\n",
       "    .dataframe thead th {\n",
       "        text-align: right;\n",
       "    }\n",
       "</style>\n",
       "<table border=\"1\" class=\"dataframe\">\n",
       "  <thead>\n",
       "    <tr style=\"text-align: right;\">\n",
       "      <th></th>\n",
       "      <th>precision</th>\n",
       "      <th>recall</th>\n",
       "      <th>f1-score</th>\n",
       "      <th>support</th>\n",
       "    </tr>\n",
       "  </thead>\n",
       "  <tbody>\n",
       "    <tr>\n",
       "      <th>0</th>\n",
       "      <td>0.975944</td>\n",
       "      <td>0.986324</td>\n",
       "      <td>0.981107</td>\n",
       "      <td>5923.00000</td>\n",
       "    </tr>\n",
       "    <tr>\n",
       "      <th>1</th>\n",
       "      <td>0.982955</td>\n",
       "      <td>0.983684</td>\n",
       "      <td>0.983320</td>\n",
       "      <td>6742.00000</td>\n",
       "    </tr>\n",
       "    <tr>\n",
       "      <th>2</th>\n",
       "      <td>0.955112</td>\n",
       "      <td>0.964250</td>\n",
       "      <td>0.959659</td>\n",
       "      <td>5958.00000</td>\n",
       "    </tr>\n",
       "    <tr>\n",
       "      <th>3</th>\n",
       "      <td>0.959008</td>\n",
       "      <td>0.946338</td>\n",
       "      <td>0.952631</td>\n",
       "      <td>6131.00000</td>\n",
       "    </tr>\n",
       "    <tr>\n",
       "      <th>4</th>\n",
       "      <td>0.963562</td>\n",
       "      <td>0.968675</td>\n",
       "      <td>0.966112</td>\n",
       "      <td>5842.00000</td>\n",
       "    </tr>\n",
       "    <tr>\n",
       "      <th>5</th>\n",
       "      <td>0.963322</td>\n",
       "      <td>0.954436</td>\n",
       "      <td>0.958858</td>\n",
       "      <td>5421.00000</td>\n",
       "    </tr>\n",
       "    <tr>\n",
       "      <th>6</th>\n",
       "      <td>0.973027</td>\n",
       "      <td>0.981413</td>\n",
       "      <td>0.977202</td>\n",
       "      <td>5918.00000</td>\n",
       "    </tr>\n",
       "    <tr>\n",
       "      <th>7</th>\n",
       "      <td>0.973069</td>\n",
       "      <td>0.963128</td>\n",
       "      <td>0.968073</td>\n",
       "      <td>6265.00000</td>\n",
       "    </tr>\n",
       "    <tr>\n",
       "      <th>8</th>\n",
       "      <td>0.949460</td>\n",
       "      <td>0.947189</td>\n",
       "      <td>0.948323</td>\n",
       "      <td>5851.00000</td>\n",
       "    </tr>\n",
       "    <tr>\n",
       "      <th>9</th>\n",
       "      <td>0.945891</td>\n",
       "      <td>0.946209</td>\n",
       "      <td>0.946050</td>\n",
       "      <td>5949.00000</td>\n",
       "    </tr>\n",
       "    <tr>\n",
       "      <th>accuracy</th>\n",
       "      <td>0.964450</td>\n",
       "      <td>0.964450</td>\n",
       "      <td>0.964450</td>\n",
       "      <td>0.96445</td>\n",
       "    </tr>\n",
       "    <tr>\n",
       "      <th>macro avg</th>\n",
       "      <td>0.964135</td>\n",
       "      <td>0.964165</td>\n",
       "      <td>0.964134</td>\n",
       "      <td>60000.00000</td>\n",
       "    </tr>\n",
       "    <tr>\n",
       "      <th>weighted avg</th>\n",
       "      <td>0.964436</td>\n",
       "      <td>0.964450</td>\n",
       "      <td>0.964427</td>\n",
       "      <td>60000.00000</td>\n",
       "    </tr>\n",
       "  </tbody>\n",
       "</table>\n",
       "</div>"
      ],
      "text/plain": [
       "              precision    recall  f1-score      support\n",
       "0              0.975944  0.986324  0.981107   5923.00000\n",
       "1              0.982955  0.983684  0.983320   6742.00000\n",
       "2              0.955112  0.964250  0.959659   5958.00000\n",
       "3              0.959008  0.946338  0.952631   6131.00000\n",
       "4              0.963562  0.968675  0.966112   5842.00000\n",
       "5              0.963322  0.954436  0.958858   5421.00000\n",
       "6              0.973027  0.981413  0.977202   5918.00000\n",
       "7              0.973069  0.963128  0.968073   6265.00000\n",
       "8              0.949460  0.947189  0.948323   5851.00000\n",
       "9              0.945891  0.946209  0.946050   5949.00000\n",
       "accuracy       0.964450  0.964450  0.964450      0.96445\n",
       "macro avg      0.964135  0.964165  0.964134  60000.00000\n",
       "weighted avg   0.964436  0.964450  0.964427  60000.00000"
      ]
     },
     "execution_count": 63,
     "metadata": {},
     "output_type": "execute_result"
    }
   ],
   "source": [
    "cm = confusion_matrix(y_train, y_predict)\n",
    "fig, ax = plt.subplots(figsize=(8, 8))\n",
    "sns.heatmap(cm, annot=True, fmt='d', cmap='Blues', linewidth=0.5)\n",
    "plt.show()\n",
    "\n",
    "res = pd.DataFrame(classification_report(y_train, y_predict, output_dict=True)).T\n",
    "res"
   ]
  },
  {
   "cell_type": "markdown",
   "metadata": {},
   "source": [
    "## Hyperparameter tuning"
   ]
  },
  {
   "cell_type": "code",
   "execution_count": 80,
   "metadata": {},
   "outputs": [
    {
     "name": "stdout",
     "output_type": "stream",
     "text": [
      "{'max_depth': 50, 'max_features': 'auto', 'min_samples_leaf': 2, 'n_estimators': 500}\n"
     ]
    }
   ],
   "source": [
    "param_grid = { \n",
    "    'n_estimators':[100, 500, 1000],\n",
    "    'max_features': ['auto', 'sqrt','log2'],\n",
    "    'max_depth' : [10,20, 30, 40, 50],\n",
    "    'min_samples_leaf':[2, 4]\n",
    "}\n",
    "\n",
    "kfold = StratifiedKFold(n_splits=3)\n",
    "rfc = RandomForestClassifier()\n",
    "rfc_gcv = GridSearchCV(rfc, param_grid=param_grid, cv=kfold, n_jobs=-1)\n",
    "rfc_gcv.fit(X_train, y_train)\n",
    "\n",
    "print(rfc_gcv.best_params_)"
   ]
  },
  {
   "cell_type": "code",
   "execution_count": 82,
   "metadata": {},
   "outputs": [
    {
     "data": {
      "image/png": "[encoded data removed]",
      "text/plain": [
       "<Figure size 576x576 with 2 Axes>"
      ]
     },
     "metadata": {
      "needs_background": "light"
     },
     "output_type": "display_data"
    },
    {
     "data": {
      "text/html": [
       "<div>\n",
       "<style scoped>\n",
       "    .dataframe tbody tr th:only-of-type {\n",
       "        vertical-align: middle;\n",
       "    }\n",
       "\n",
       "    .dataframe tbody tr th {\n",
       "        vertical-align: top;\n",
       "    }\n",
       "\n",
       "    .dataframe thead th {\n",
       "        text-align: right;\n",
       "    }\n",
       "</style>\n",
       "<table border=\"1\" class=\"dataframe\">\n",
       "  <thead>\n",
       "    <tr style=\"text-align: right;\">\n",
       "      <th></th>\n",
       "      <th>precision</th>\n",
       "      <th>recall</th>\n",
       "      <th>f1-score</th>\n",
       "      <th>support</th>\n",
       "    </tr>\n",
       "  </thead>\n",
       "  <tbody>\n",
       "    <tr>\n",
       "      <th>0</th>\n",
       "      <td>0.977919</td>\n",
       "      <td>0.987000</td>\n",
       "      <td>0.982438</td>\n",
       "      <td>5923.000000</td>\n",
       "    </tr>\n",
       "    <tr>\n",
       "      <th>1</th>\n",
       "      <td>0.983551</td>\n",
       "      <td>0.984426</td>\n",
       "      <td>0.983988</td>\n",
       "      <td>6742.000000</td>\n",
       "    </tr>\n",
       "    <tr>\n",
       "      <th>2</th>\n",
       "      <td>0.957411</td>\n",
       "      <td>0.965928</td>\n",
       "      <td>0.961651</td>\n",
       "      <td>5958.000000</td>\n",
       "    </tr>\n",
       "    <tr>\n",
       "      <th>3</th>\n",
       "      <td>0.963859</td>\n",
       "      <td>0.948296</td>\n",
       "      <td>0.956014</td>\n",
       "      <td>6131.000000</td>\n",
       "    </tr>\n",
       "    <tr>\n",
       "      <th>4</th>\n",
       "      <td>0.966980</td>\n",
       "      <td>0.967477</td>\n",
       "      <td>0.967229</td>\n",
       "      <td>5842.000000</td>\n",
       "    </tr>\n",
       "    <tr>\n",
       "      <th>5</th>\n",
       "      <td>0.967298</td>\n",
       "      <td>0.960339</td>\n",
       "      <td>0.963806</td>\n",
       "      <td>5421.000000</td>\n",
       "    </tr>\n",
       "    <tr>\n",
       "      <th>6</th>\n",
       "      <td>0.973045</td>\n",
       "      <td>0.982089</td>\n",
       "      <td>0.977546</td>\n",
       "      <td>5918.000000</td>\n",
       "    </tr>\n",
       "    <tr>\n",
       "      <th>7</th>\n",
       "      <td>0.972062</td>\n",
       "      <td>0.966321</td>\n",
       "      <td>0.969183</td>\n",
       "      <td>6265.000000</td>\n",
       "    </tr>\n",
       "    <tr>\n",
       "      <th>8</th>\n",
       "      <td>0.954350</td>\n",
       "      <td>0.950436</td>\n",
       "      <td>0.952389</td>\n",
       "      <td>5851.000000</td>\n",
       "    </tr>\n",
       "    <tr>\n",
       "      <th>9</th>\n",
       "      <td>0.946118</td>\n",
       "      <td>0.950412</td>\n",
       "      <td>0.948260</td>\n",
       "      <td>5949.000000</td>\n",
       "    </tr>\n",
       "    <tr>\n",
       "      <th>accuracy</th>\n",
       "      <td>0.966517</td>\n",
       "      <td>0.966517</td>\n",
       "      <td>0.966517</td>\n",
       "      <td>0.966517</td>\n",
       "    </tr>\n",
       "    <tr>\n",
       "      <th>macro avg</th>\n",
       "      <td>0.966259</td>\n",
       "      <td>0.966272</td>\n",
       "      <td>0.966250</td>\n",
       "      <td>60000.000000</td>\n",
       "    </tr>\n",
       "    <tr>\n",
       "      <th>weighted avg</th>\n",
       "      <td>0.966510</td>\n",
       "      <td>0.966517</td>\n",
       "      <td>0.966498</td>\n",
       "      <td>60000.000000</td>\n",
       "    </tr>\n",
       "  </tbody>\n",
       "</table>\n",
       "</div>"
      ],
      "text/plain": [
       "              precision    recall  f1-score       support\n",
       "0              0.977919  0.987000  0.982438   5923.000000\n",
       "1              0.983551  0.984426  0.983988   6742.000000\n",
       "2              0.957411  0.965928  0.961651   5958.000000\n",
       "3              0.963859  0.948296  0.956014   6131.000000\n",
       "4              0.966980  0.967477  0.967229   5842.000000\n",
       "5              0.967298  0.960339  0.963806   5421.000000\n",
       "6              0.973045  0.982089  0.977546   5918.000000\n",
       "7              0.972062  0.966321  0.969183   6265.000000\n",
       "8              0.954350  0.950436  0.952389   5851.000000\n",
       "9              0.946118  0.950412  0.948260   5949.000000\n",
       "accuracy       0.966517  0.966517  0.966517      0.966517\n",
       "macro avg      0.966259  0.966272  0.966250  60000.000000\n",
       "weighted avg   0.966510  0.966517  0.966498  60000.000000"
      ]
     },
     "execution_count": 82,
     "metadata": {},
     "output_type": "execute_result"
    }
   ],
   "source": [
    "rfc = RandomForestClassifier(max_depth=50, max_features='auto', n_estimators=500, n_jobs=-1)\n",
    "kfold = StratifiedKFold(n_splits=3)\n",
    "y_predict = cross_val_predict(rfc, X_train, y_train, cv=kfold)\n",
    "\n",
    "cm = confusion_matrix(y_train, y_predict)\n",
    "fig, ax = plt.subplots(figsize=(8, 8))\n",
    "sns.heatmap(cm, annot=True, fmt='d', cmap='Blues', linewidth=0.5)\n",
    "plt.show()\n",
    "\n",
    "res = pd.DataFrame(classification_report(y_train, y_predict, output_dict=True)).T\n",
    "res"
   ]
  },
  {
   "cell_type": "markdown",
   "metadata": {},
   "source": [
    "## Summery"
   ]
  },
  {
   "cell_type": "markdown",
   "metadata": {},
   "source": [
    "- A simple case of one-vs-rest is implemented for the digit 5\n",
    "    - Random forest classifier provides the recall rate of 88%\n",
    "- A multicalss clasffier has been implemented using random forest classifier\n",
    "    - The precision and recall rates of the all the digits are greater than or equal to 95%\n",
    "    - The average accuracy of the model is geater than 96%\n",
    "    - It seems that the digits 4, 7, 8 are misclassified as 9 atleast 4% of the occurances.\n",
    "- For further improvement, extra features such as the number of loops a digit contains can be considered."
   ]
  }
 ],
 "metadata": {
  "kernelspec": {
   "display_name": "Python 3",
   "language": "python",
   "name": "python3"
  },
  "language_info": {
   "codemirror_mode": {
    "name": "ipython",
    "version": 3
   },
   "file_extension": ".py",
   "mimetype": "text/x-python",
   "name": "python",
   "nbconvert_exporter": "python",
   "pygments_lexer": "ipython3",
   "version": "3.8.5"
  }
 },
 "nbformat": 4,
 "nbformat_minor": 4
}
